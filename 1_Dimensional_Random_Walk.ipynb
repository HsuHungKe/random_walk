{
 "cells": [
  {
   "cell_type": "code",
   "execution_count": 4,
   "metadata": {},
   "outputs": [],
   "source": [
    "import numpy as np\n",
    "import matplotlib.pyplot as plt\n",
    "import random\n",
    "import pandas as pd"
   ]
  },
  {
   "cell_type": "code",
   "execution_count": null,
   "metadata": {},
   "outputs": [],
   "source": [
    "# Create a function to simulate 1D random walk\n",
    "\n",
    "def RanWalk(k , dice = [1,-1]):\n",
    "    num_array = np.zeros(k)\n",
    "    step_array = np.zeros(k)\n",
    "    home = 0\n",
    "    # 1. Set possible choices\n",
    "\n",
    "    \n",
    "    for item in range(1,k):\n",
    "        num_array[item] = num_array[item-1] + 1\n",
    "        step_array[item] = step_array[item-1] + random.choices(dice, k = 1)\n",
    "        \n",
    "        if step_array[item] ==0:\n",
    "            home = home + 1\n",
    "            \n",
    "    plt.plot(step_array)\n",
    "    print (\"The drunk goes home\", home, \"times.\")\n",
    "    "
   ]
  },
  {
   "cell_type": "code",
   "execution_count": null,
   "metadata": {},
   "outputs": [],
   "source": [
    "RanWalk(100, dice=[-1,1,1])\n",
    "RanWalk(100)\n",
    "RanWalk(100, dice=[-1,-1,1])"
   ]
  },
  {
   "cell_type": "code",
   "execution_count": 30,
   "metadata": {},
   "outputs": [],
   "source": [
    "#Now I want to know the distribution for how many times on average the drunk would go home. \n",
    "#rewrite function\n",
    "def RanWalk_hist(k, step=100):\n",
    "    dice = [1,-1]\n",
    "    hist_array = np.zeros(k)\n",
    "    for num in range(k):\n",
    "        num_array = np.zeros(step)\n",
    "        step_array = np.zeros(step)\n",
    "        home = 0\n",
    "    \n",
    "        for item in range(1,step):\n",
    "            num_array[item] = num_array[item-1] + 1\n",
    "            step_array[item] = step_array[item-1] + random.choices(dice, k = 1)\n",
    "        \n",
    "            if step_array[item] ==0:\n",
    "                home = home + 1\n",
    "        #Assigning data for histagram\n",
    "        hist_array[num] = home\n",
    "    #Convert to DataFrame and plot histogram\n",
    "    df = pd.DataFrame(hist_array)\n",
    "    \n",
    "    plt.hist(df,bins=range(0,40,2))\n",
    "    print(\"The description of the data:\", df.describe())"
   ]
  },
  {
   "cell_type": "code",
   "execution_count": 31,
   "metadata": {},
   "outputs": [
    {
     "name": "stdout",
     "output_type": "stream",
     "text": [
      "The description of the data:                 0\n",
      "count  1000.00000\n",
      "mean      7.05600\n",
      "std       5.54776\n",
      "min       0.00000\n",
      "25%       3.00000\n",
      "50%       6.00000\n",
      "75%      11.00000\n",
      "max      29.00000\n"
     ]
    },
    {
     "data": {
      "image/png": "[encoded data removed]",
      "text/plain": [
       "<Figure size 432x288 with 1 Axes>"
      ]
     },
     "metadata": {
      "needs_background": "light"
     },
     "output_type": "display_data"
    }
   ],
   "source": [
    "RanWalk_hist(1000)"
   ]
  },
  {
   "cell_type": "code",
   "execution_count": 32,
   "metadata": {},
   "outputs": [],
   "source": [
    "#References:\n",
    "#1. Random Walk: https://en.wikipedia.org/wiki/Random_walk\n",
    "#2.Histogram: https://www.delftstack.com/howto/python-pandas/how-to-get-average-of-a-column-of-a-pandas-dataframe/"
   ]
  }
 ],
 "metadata": {
  "kernelspec": {
   "display_name": "Python 3",
   "language": "python",
   "name": "python3"
  },
  "language_info": {
   "codemirror_mode": {
    "name": "ipython",
    "version": 3
   },
   "file_extension": ".py",
   "mimetype": "text/x-python",
   "name": "python",
   "nbconvert_exporter": "python",
   "pygments_lexer": "ipython3",
   "version": "3.8.5"
  }
 },
 "nbformat": 4,
 "nbformat_minor": 4
}
