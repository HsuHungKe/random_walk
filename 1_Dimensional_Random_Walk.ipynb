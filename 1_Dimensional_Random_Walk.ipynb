{
 "cells": [
  {
   "cell_type": "code",
   "execution_count": null,
   "metadata": {},
   "outputs": [],
   "source": [
    "import numpy as np\n",
    "import matplotlib.pyplot as plt\n",
    "import random"
   ]
  },
  {
   "cell_type": "code",
   "execution_count": null,
   "metadata": {},
   "outputs": [],
   "source": [
    "# Create a function to simulate 1D random walk\n",
    "\n",
    "def RanWalk(k , dice = [1,-1]):\n",
    "    num_array = np.zeros(k)\n",
    "    step_array = np.zeros(k)\n",
    "    home = 0\n",
    "    # 1. Set possible choices\n",
    "\n",
    "    \n",
    "    for item in range(1,k):\n",
    "        num_array[item] = num_array[item-1] + 1\n",
    "        step_array[item] = step_array[item-1] + random.choices(dice, k = 1)\n",
    "        \n",
    "        if step_array[item] ==0:\n",
    "            home = home + 1\n",
    "            \n",
    "    plt.plot(step_array)\n",
    "    print (\"The drunk goes home\", home, \"times.\")\n",
    "    "
   ]
  },
  {
   "cell_type": "code",
   "execution_count": null,
   "metadata": {},
   "outputs": [],
   "source": [
    "RanWalk(100, dice=[-1,1,1])\n",
    "RanWalk(100)\n",
    "RanWalk(100, dice=[-1,-1,1])"
   ]
  }
 ],
 "metadata": {
  "kernelspec": {
   "display_name": "Python 3",
   "language": "python",
   "name": "python3"
  },
  "language_info": {
   "codemirror_mode": {
    "name": "ipython",
    "version": 3
   },
   "file_extension": ".py",
   "mimetype": "text/x-python",
   "name": "python",
   "nbconvert_exporter": "python",
   "pygments_lexer": "ipython3",
   "version": "3.8.5"
  }
 },
 "nbformat": 4,
 "nbformat_minor": 4
}
